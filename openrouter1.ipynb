{
  "cells": [
    {
      "cell_type": "markdown",
      "metadata": {
        "id": "view-in-github",
        "colab_type": "text"
      },
      "source": [
        "<a href=\"https://colab.research.google.com/github/Itstalhakha/openrouter/blob/main/openrouter1.ipynb\" target=\"_parent\"><img src=\"https://colab.research.google.com/assets/colab-badge.svg\" alt=\"Open In Colab\"/></a>"
      ]
    },
    {
      "cell_type": "code",
      "source": [
        "!pip install -Uq openai-agents"
      ],
      "metadata": {
        "id": "O6y3ILPuKOEi"
      },
      "execution_count": null,
      "outputs": []
    },
    {
      "cell_type": "code",
      "source": [
        "import nest_asyncio\n",
        "nest_asyncio.apply()"
      ],
      "metadata": {
        "id": "RkUVSJzlKgKK"
      },
      "execution_count": null,
      "outputs": []
    },
    {
      "cell_type": "code",
      "source": [
        "from google.colab import userdata\n",
        "OPENROUTER_API_KEY=userdata.get('OPENROUTER_API_KEY')\n"
      ],
      "metadata": {
        "id": "tGbdBc6uLGSu"
      },
      "execution_count": null,
      "outputs": []
    },
    {
      "cell_type": "code",
      "source": [
        "import requests\n",
        "import json\n",
        "\n",
        "# Example values for variables (replace these with your actual values)\n",
        "baseUrl = \"https://openrouter.ai/api/v1\"  # remove extra space after baseUrl\n",
        "Model = \"qwen/qwen2.5-vl-3b-instruct:free\"  # check model string if using OpenRouter\n",
        "\n",
        "response = requests.post(\n",
        "    url=f\"{baseUrl}/chat/completions\",  # Removed space between baseUrl and endpoint\n",
        "    headers={\n",
        "        \"Authorization\": f\"Bearer {OPENROUTER_API_KEY}\",\n",
        "    },\n",
        "    json={  # Use `json=` instead of `data=json.dumps()` (it's cleaner)\n",
        "        \"model\": Model,  # model should be lowercase key\n",
        "        \"messages\": [    # key should be 'messages', not 'Message'\n",
        "            {\n",
        "                \"role\": \"user\",\n",
        "                \"content\": \"hi, their\"\n",
        "            }\n",
        "        ]\n",
        "    }\n",
        ")\n",
        "\n",
        "# Print response\n",
        "print(response.status_code)\n",
        "print(response.json())\n",
        "\n",
        "if response.status_code == 200:\n",
        "    data = response.json()\n",
        "    print(data['choices'][0]['message']['content'])\n",
        "else:\n",
        "    print(\"❌ Error:\", response.status_code)\n",
        "    print(response.json())\n"
      ],
      "metadata": {
        "id": "oLHoQxJJMBAf",
        "outputId": "dc22874f-aa0c-47f4-ce37-2a1461e077de",
        "colab": {
          "base_uri": "https://localhost:8080/"
        }
      },
      "execution_count": null,
      "outputs": [
        {
          "output_type": "stream",
          "name": "stdout",
          "text": [
            "200\n",
            "{'id': 'gen-1746435126-2FkgRcRM3un8uHNJBmoK', 'provider': 'Chutes', 'model': 'qwen/qwen2.5-vl-3b-instruct:free', 'object': 'chat.completion', 'created': 1746435126, 'choices': [{'logprobs': None, 'finish_reason': 'stop', 'native_finish_reason': 'stop', 'index': 0, 'message': {'role': 'assistant', 'content': 'Hello! How can I assist you today?', 'refusal': None, 'reasoning': None}}], 'usage': {'prompt_tokens': 22, 'completion_tokens': 10, 'total_tokens': 32}}\n",
            "Hello! How can I assist you today?\n"
          ]
        }
      ]
    },
    {
      "cell_type": "code",
      "source": [
        "import asyncio\n",
        "from openai import AsyncOpenAI\n",
        "from agents import Agent, RunConfig, Runner, OpenAIChatCompletionsModel, set_tracing_disabled\n",
        "from google.colab import userdata\n",
        "\n",
        "# ✅ API config\n",
        "OPENROUTER_API_KEY = userdata.get('OPENROUTER_API_KEY')\n",
        "baseUrl = \"https://openrouter.ai/api/v1\"\n",
        "Model = \"openai/gpt-3.5-turbo\"\n",
        "\n",
        "# ✅ OpenAI client\n",
        "client = AsyncOpenAI(\n",
        "    api_key=OPENROUTER_API_KEY,\n",
        "    base_url=baseUrl,\n",
        ")\n",
        "\n",
        "set_tracing_disabled(disabled=False)\n",
        "\n",
        "async def main():\n",
        "    agent1 = Agent(\n",
        "        name=\"Assistant\",\n",
        "        instructions=\"You are a helpful assistant.\",\n",
        "        model=OpenAIChatCompletionsModel(openai_client=client, model=Model)\n",
        "    )\n",
        "\n",
        "    result = await Runner.run(agent1, \"hi how are you\")\n",
        "    print(result.final_output)\n",
        "\n",
        "if __name__ == \"__main__\":\n",
        "    asyncio.run(main())\n"
      ],
      "metadata": {
        "colab": {
          "base_uri": "https://localhost:8080/"
        },
        "id": "-f9uUx3-ki_7",
        "outputId": "28ac833b-7863-40dc-a4e3-00fa0fd50989"
      },
      "execution_count": null,
      "outputs": [
        {
          "output_type": "stream",
          "name": "stdout",
          "text": [
            "Hello! I'm just a digital assistant, so I don't have feelings, but I'm here to help you. How can I assist you today?\n"
          ]
        }
      ]
    }
  ],
  "metadata": {
    "colab": {
      "provenance": [],
      "include_colab_link": true
    },
    "kernelspec": {
      "display_name": "Python 3",
      "name": "python3"
    }
  },
  "nbformat": 4,
  "nbformat_minor": 0
}